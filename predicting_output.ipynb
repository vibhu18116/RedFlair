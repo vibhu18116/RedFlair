{
 "cells": [
  {
   "cell_type": "code",
   "execution_count": 16,
   "metadata": {},
   "outputs": [],
   "source": [
    "import joblib\n",
    "import praw\n",
    "import data_scrapping as ds\n",
    "from urllib.parse import urlparse\n",
    "import re\n",
    "import pandas as pd\n",
    "import nltk\n",
    "import pickle"
   ]
  },
  {
   "cell_type": "code",
   "execution_count": 17,
   "metadata": {},
   "outputs": [],
   "source": [
    "def get_input(url_to_check):\n",
    "    \n",
    "    reddit = praw.Reddit(client_id = '#', \\\n",
    "                                    client_secret = '#',\\\n",
    "                                    user_agent = '#',\\\n",
    "                                    username = '#',\\\n",
    "                                    password = '#')\n",
    "\n",
    "    post = reddit.submission(url = url_to_check)\n",
    "    title_c = ds.process_strings(str(post.title))\n",
    "    content_c = ds.process_strings(str(post.selftext))\n",
    "\n",
    "    post.comments.replace_more(limit=0)\n",
    "    comments = \"\"\n",
    "    for comment in post.comments.list():\n",
    "        comments = comments + comment.body\n",
    "\n",
    "    comments = ds.process_strings(comments)\n",
    "\n",
    "    comments_c = ds.process_strings(comments)\n",
    "\n",
    "    url = post.url\n",
    "    parsed = urlparse(url)\n",
    "    url_path_c = ds.process_strings(\" \".join(re.split('/|-|_', str(parsed.path))))\n",
    "    \n",
    "    insert = {\n",
    "        \"title\" : [title_c],\n",
    "        \"content\" : [content_c],\n",
    "        \"comments\" : [comments_c],\n",
    "        \"url_path\" : [url_path_c]\n",
    "    }\n",
    "    df = pd.DataFrame(insert)\n",
    "    \n",
    "    df[\"merged\"] = df[\"title\"] + df[\"url_path\"] + df[\"comments\"] + df[\"content\"]\n",
    "    \n",
    "    return df.merged"
   ]
  },
  {
   "cell_type": "code",
   "execution_count": 18,
   "metadata": {},
   "outputs": [],
   "source": [
    "def fit_to_dict(df_col):\n",
    "    vec = pickle.load(open(\"vector.pickle\", \"rb\"))\n",
    "    trans = vec.transform(df_col)\n",
    "    return trans"
   ]
  },
  {
   "cell_type": "code",
   "execution_count": 19,
   "metadata": {},
   "outputs": [],
   "source": [
    "def predict(inp):\n",
    "    \n",
    "    frame = get_input(inp)\n",
    "    changed = fit_to_dict(frame)\n",
    "    trained_model = joblib.load(\"flair_predictor.joblib\")\n",
    "    return trained_model.predict(changed)"
   ]
  },
  {
   "cell_type": "code",
   "execution_count": 21,
   "metadata": {},
   "outputs": [
    {
     "name": "stdout",
     "output_type": "stream",
     "text": [
      "https://www.reddit.com/r/india/comments/cgr12r/spotted_in_delhi/\n",
      "['AskIndia']\n"
     ]
    }
   ],
   "source": [
    "if __name__ == \"__main__\":\n",
    "    i = input()\n",
    "    print(predict(i))"
   ]
  },
  {
   "cell_type": "code",
   "execution_count": null,
   "metadata": {},
   "outputs": [],
   "source": []
  }
 ],
 "metadata": {
  "kernelspec": {
   "display_name": "Python 3",
   "language": "python",
   "name": "python3"
  },
  "language_info": {
   "codemirror_mode": {
    "name": "ipython",
    "version": 3
   },
   "file_extension": ".py",
   "mimetype": "text/x-python",
   "name": "python",
   "nbconvert_exporter": "python",
   "pygments_lexer": "ipython3",
   "version": "3.7.3rc1"
  }
 },
 "nbformat": 4,
 "nbformat_minor": 2
}
