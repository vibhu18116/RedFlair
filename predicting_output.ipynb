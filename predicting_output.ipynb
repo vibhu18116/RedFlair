{
 "cells": [
  {
   "cell_type": "code",
   "execution_count": 6,
   "metadata": {},
   "outputs": [],
   "source": [
    "import joblib\n",
    "import praw\n",
    "import data_scrapping as ds\n",
    "from urllib.parse import urlparse\n",
    "import re\n",
    "import pandas as pd\n",
    "from sklearn.feature_extraction.text import CountVectorizer, TfidfTransformer, TfidfVectorizer\n",
    "import nltk\n",
    "import xgboost\n",
    "from sklearn.model_selection import train_test_split\n",
    "import cgi"
   ]
  },
  {
   "cell_type": "code",
   "execution_count": 7,
   "metadata": {},
   "outputs": [],
   "source": [
    "def vectorisation(train, test):\n",
    "    vect = CountVectorizer()\n",
    "    \n",
    "    new_train = vect.fit_transform(train)\n",
    "    new_test = vect.transform(test)\n",
    "    return new_train, new_test"
   ]
  },
  {
   "cell_type": "code",
   "execution_count": 8,
   "metadata": {},
   "outputs": [
    {
     "name": "stdout",
     "output_type": "stream",
     "text": [
      "https://www.reddit.com/r/india/comments/cg82rw/weekly_financial_advice_thread_july_22_2019/\n"
     ]
    }
   ],
   "source": [
    "url_to_check = input()\n",
    "reddit = praw.Reddit(client_id = '#', \\\n",
    "                                client_secret = '#',\\\n",
    "                                user_agent = '#',\\\n",
    "                                username = '#',\\\n",
    "                                password = '#')\n",
    "\n",
    "post = reddit.submission(url = url_to_check)\n",
    "title_c = ds.process_strings(str(post.title))\n",
    "content_c = ds.process_strings(str(post.selftext))\n",
    "\n",
    "post.comments.replace_more(limit=0)\n",
    "comments = \"\"\n",
    "for comment in post.comments.list():\n",
    "    comments = comments + comment.body\n",
    "\n",
    "comments = ds.process_strings(comments)\n",
    "\n",
    "comments_c = ds.process_strings(comments)\n",
    "\n",
    "url = post.url\n",
    "parsed = urlparse(url)\n",
    "url_path_c = ds.process_strings(\" \".join(re.split('/|-|_', str(parsed.path))))"
   ]
  },
  {
   "cell_type": "code",
   "execution_count": 10,
   "metadata": {},
   "outputs": [
    {
     "data": {
      "text/html": [
       "<div>\n",
       "<style scoped>\n",
       "    .dataframe tbody tr th:only-of-type {\n",
       "        vertical-align: middle;\n",
       "    }\n",
       "\n",
       "    .dataframe tbody tr th {\n",
       "        vertical-align: top;\n",
       "    }\n",
       "\n",
       "    .dataframe thead th {\n",
       "        text-align: right;\n",
       "    }\n",
       "</style>\n",
       "<table border=\"1\" class=\"dataframe\">\n",
       "  <thead>\n",
       "    <tr style=\"text-align: right;\">\n",
       "      <th></th>\n",
       "      <th>title</th>\n",
       "      <th>content</th>\n",
       "      <th>comments</th>\n",
       "      <th>url_path</th>\n",
       "    </tr>\n",
       "  </thead>\n",
       "  <tbody>\n",
       "    <tr>\n",
       "      <th>0</th>\n",
       "      <td>weekly financial advice thread july</td>\n",
       "      <td>weekly thread everything related indian bankin...</td>\n",
       "      <td>fresher start investing first salary onwards m...</td>\n",
       "      <td>r india comments weekly financial advice threa...</td>\n",
       "    </tr>\n",
       "  </tbody>\n",
       "</table>\n",
       "</div>"
      ],
      "text/plain": [
       "                                 title  \\\n",
       "0  weekly financial advice thread july   \n",
       "\n",
       "                                             content  \\\n",
       "0  weekly thread everything related indian bankin...   \n",
       "\n",
       "                                            comments  \\\n",
       "0  fresher start investing first salary onwards m...   \n",
       "\n",
       "                                            url_path  \n",
       "0  r india comments weekly financial advice threa...  "
      ]
     },
     "execution_count": 10,
     "metadata": {},
     "output_type": "execute_result"
    }
   ],
   "source": [
    "insert = {\n",
    "    \"title\" : [title_c],\n",
    "    \"content\" : [content_c],\n",
    "    \"comments\" : [comments_c],\n",
    "    \"url_path\" : [url_path_c]\n",
    "}\n",
    "df = pd.DataFrame(insert)\n",
    "df"
   ]
  },
  {
   "cell_type": "code",
   "execution_count": 11,
   "metadata": {},
   "outputs": [
    {
     "data": {
      "text/plain": [
       "0    weekly financial advice thread julyr india com...\n",
       "Name: merged, dtype: object"
      ]
     },
     "execution_count": 11,
     "metadata": {},
     "output_type": "execute_result"
    }
   ],
   "source": [
    "df[\"merged\"] = df[\"title\"] + df[\"url_path\"] + df[\"comments\"] + df[\"content\"]\n",
    "df.merged"
   ]
  },
  {
   "cell_type": "code",
   "execution_count": 12,
   "metadata": {},
   "outputs": [],
   "source": [
    "collection_pointer = ds.initialising_mongo()\n",
    "complete_dataset = pd.DataFrame(list(collection_pointer.find()))\n",
    "complete_dataset.dropna(inplace = True)\n",
    "complete_dataset['merged'] = complete_dataset[\"title\"] + complete_dataset[\"url_path\"] + complete_dataset['comments'] + complete_dataset[\"content\"]\n",
    "\n",
    "Y = complete_dataset.flair\n",
    "x = complete_dataset.drop('flair', axis = 1)\n",
    "\n",
    "x_train, x_test, y_train, y_test = train_test_split(x, Y, test_size = 0.2, random_state = 7)"
   ]
  },
  {
   "cell_type": "code",
   "execution_count": 13,
   "metadata": {},
   "outputs": [
    {
     "data": {
      "text/plain": [
       "array(['AskIndia'], dtype=object)"
      ]
     },
     "execution_count": 13,
     "metadata": {},
     "output_type": "execute_result"
    }
   ],
   "source": [
    "a,fn = vectorisation(x_train.merged, df.merged)\n",
    "trained_model = joblib.load(\"flair_predictor.joblib\")\n",
    "# print(trained_model)\n",
    "trained_model.predict(fn)"
   ]
  },
  {
   "cell_type": "code",
   "execution_count": null,
   "metadata": {},
   "outputs": [],
   "source": []
  },
  {
   "cell_type": "code",
   "execution_count": null,
   "metadata": {},
   "outputs": [],
   "source": []
  }
 ],
 "metadata": {
  "kernelspec": {
   "display_name": "Python 3",
   "language": "python",
   "name": "python3"
  },
  "language_info": {
   "codemirror_mode": {
    "name": "ipython",
    "version": 3
   },
   "file_extension": ".py",
   "mimetype": "text/x-python",
   "name": "python",
   "nbconvert_exporter": "python",
   "pygments_lexer": "ipython3",
   "version": "3.7.3rc1"
  }
 },
 "nbformat": 4,
 "nbformat_minor": 2
}
